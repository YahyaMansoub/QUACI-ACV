{
 "cells": [
  {
   "cell_type": "code",
   "execution_count": 21,
   "id": "7a4e9fcf",
   "metadata": {},
   "outputs": [],
   "source": [
    "import pandas as pd \n",
    "import os\n",
    "import scipy.stats as stats\n",
    "import numpy as np\n",
    "from scipy.stats import lognorm"
   ]
  },
  {
   "cell_type": "code",
   "execution_count": 2,
   "id": "7d2ec9e5",
   "metadata": {},
   "outputs": [
    {
     "name": "stdout",
     "output_type": "stream",
     "text": [
      "<generator object walk at 0x0000019CD27A0600>\n"
     ]
    }
   ],
   "source": [
    "import os \n",
    "\n",
    "\n",
    "print(os.walk('Calculating House Matrices'))"
   ]
  },
  {
   "cell_type": "code",
   "execution_count": 3,
   "id": "14f3f7e7",
   "metadata": {},
   "outputs": [],
   "source": [
    "root_path = 'Material_Statistics'\n",
    "\n",
    "data = {}\n",
    "for dirpath, dirnames, filenames in os.walk(root_path):\n",
    "    for filename in filenames:\n",
    "        df = pd.read_excel(os.path.join(dirpath,filename))\n",
    "        name = filename.split('_')[0]\n",
    "        data[name]=df\n"
   ]
  },
  {
   "cell_type": "code",
   "execution_count": 4,
   "id": "4e9441d6",
   "metadata": {},
   "outputs": [],
   "source": [
    "materials = [\n",
    "    'ExternalWood', 'BeamWood', 'Cinderblock', 'Concrete', 'Earthen',\n",
    "    'Firedbrick', 'Glass', 'Glass wool', 'Gypsum', 'Hemp', 'Lath',\n",
    "    'Mortar', 'OSB', 'Paint', 'Plywood', 'Steel', 'WaterProofing', 'XPS'\n",
    "]"
   ]
  },
  {
   "cell_type": "code",
   "execution_count": 5,
   "id": "c7f3c6c9",
   "metadata": {},
   "outputs": [],
   "source": [
    "for mat in materials:\n",
    "    if mat in data.keys():\n",
    "        df = data[mat]\n",
    "        df = df.iloc[df[df.iloc[:, 0] == \"Catégorie d'impact\"].index[0]:]\n",
    "        df.columns = df.iloc[0]\n",
    "        df = df[1:]\n",
    "        df = df.reset_index(drop=True)\n",
    "        data[mat] = df.iloc[:27]"
   ]
  },
  {
   "cell_type": "code",
   "execution_count": 6,
   "id": "f4a53667",
   "metadata": {},
   "outputs": [],
   "source": [
    "h = data['BeamWood'].copy()"
   ]
  },
  {
   "cell_type": "code",
   "execution_count": 26,
   "id": "b8fc8bed",
   "metadata": {},
   "outputs": [],
   "source": [
    "\n",
    "Moyenne = pd.to_numeric(data[\"BeamWood\"][\"Moyenne\"], errors='coerce')\n",
    "std = pd.to_numeric(data[\"BeamWood\"][\"SD\"], errors='coerce')\n",
    "\n",
    "\n",
    "lognormal_samples = lognorm(s=std, scale= np.exp(Moyenne)).rvs()\n",
    "\n",
    "#Build dataframe \n",
    "dk = pd.DataFrame()\n",
    "dk[\"Catégorie d'impact\"] = h[\"Catégorie d'impact\"]\n",
    "dk[\"Valeur simulée\"]= lognormal_samples\n",
    "\n"
   ]
  },
  {
   "cell_type": "code",
   "execution_count": 61,
   "id": "72a7b590",
   "metadata": {},
   "outputs": [
    {
     "data": {
      "text/plain": [
       "0    0.000862\n",
       "1   -0.087887\n",
       "2   -0.690532\n",
       "3    0.600946\n",
       "4    0.001699\n",
       "Name: Moyenne, dtype: float64"
      ]
     },
     "execution_count": 61,
     "metadata": {},
     "output_type": "execute_result"
    }
   ],
   "source": [
    "Moyenne.head()"
   ]
  },
  {
   "cell_type": "code",
   "execution_count": null,
   "id": "998cfa57",
   "metadata": {},
   "outputs": [],
   "source": [
    "\n",
    "r = pd.read_csv('simulations.csv')"
   ]
  }
 ],
 "metadata": {
  "kernelspec": {
   "display_name": "Python 3",
   "language": "python",
   "name": "python3"
  },
  "language_info": {
   "codemirror_mode": {
    "name": "ipython",
    "version": 3
   },
   "file_extension": ".py",
   "mimetype": "text/x-python",
   "name": "python",
   "nbconvert_exporter": "python",
   "pygments_lexer": "ipython3",
   "version": "3.13.1"
  }
 },
 "nbformat": 4,
 "nbformat_minor": 5
}
