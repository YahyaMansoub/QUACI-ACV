{
 "cells": [
  {
   "cell_type": "code",
   "execution_count": 2,
   "id": "7a4e9fcf",
   "metadata": {},
   "outputs": [],
   "source": [
    "import pandas as pd \n",
    "import os\n",
    "import scipy.stats as stats\n",
    "import numpy as np\n",
    "from scipy.stats import lognorm"
   ]
  },
  {
   "cell_type": "code",
   "execution_count": 3,
   "id": "7d2ec9e5",
   "metadata": {},
   "outputs": [
    {
     "name": "stdout",
     "output_type": "stream",
     "text": [
      "<generator object _walk at 0x0000025A770288E0>\n"
     ]
    }
   ],
   "source": [
    "import os \n",
    "\n",
    "\n",
    "print(os.walk('Calculating House Matrices'))"
   ]
  },
  {
   "cell_type": "code",
   "execution_count": 4,
   "id": "14f3f7e7",
   "metadata": {},
   "outputs": [],
   "source": [
    "root_path = 'Material_Statistics'\n",
    "\n",
    "data = {}\n",
    "for dirpath, dirnames, filenames in os.walk(root_path):\n",
    "    for filename in filenames:\n",
    "        df = pd.read_excel(os.path.join(dirpath,filename))\n",
    "        name = filename.split('_')[0]\n",
    "        data[name]=df\n"
   ]
  },
  {
   "cell_type": "code",
   "execution_count": 5,
   "id": "4e9441d6",
   "metadata": {},
   "outputs": [],
   "source": [
    "materials = [\n",
    "    'ExternalWood', 'BeamWood', 'Cinderblock', 'Concrete', 'Earthen',\n",
    "    'Firedbrick', 'Glass', 'Glass wool', 'Gypsum', 'Hemp', 'Lath',\n",
    "    'Mortar', 'OSB', 'Paint', 'Plywood', 'Steel', 'WaterProofing', 'XPS'\n",
    "]"
   ]
  },
  {
   "cell_type": "code",
   "execution_count": 6,
   "id": "c7f3c6c9",
   "metadata": {},
   "outputs": [],
   "source": [
    "for mat in materials:\n",
    "    if mat in data.keys():\n",
    "        df = data[mat]\n",
    "        df = df.iloc[df[df.iloc[:, 0] == \"Catégorie d'impact\"].index[0]:]\n",
    "        df.columns = df.iloc[0]\n",
    "        df = df[1:]\n",
    "        df = df.reset_index(drop=True)\n",
    "        data[mat] = df.iloc[:27]"
   ]
  },
  {
   "cell_type": "code",
   "execution_count": 7,
   "id": "f4a53667",
   "metadata": {},
   "outputs": [],
   "source": [
    "h = data['BeamWood'].copy()"
   ]
  },
  {
   "cell_type": "code",
   "execution_count": 8,
   "id": "b8fc8bed",
   "metadata": {},
   "outputs": [],
   "source": [
    "\n",
    "Moyenne = pd.to_numeric(data[\"BeamWood\"][\"Moyenne\"], errors='coerce')\n",
    "std = pd.to_numeric(data[\"BeamWood\"][\"SD\"], errors='coerce')\n",
    "\n",
    "\n",
    "lognormal_samples = lognorm(s=std, scale= np.exp(Moyenne)).rvs()\n",
    "\n",
    "#Build dataframe \n",
    "dk = pd.DataFrame()\n",
    "dk[\"Catégorie d'impact\"] = h[\"Catégorie d'impact\"]\n",
    "dk[\"Valeur simulée\"]= lognormal_samples\n",
    "\n"
   ]
  },
  {
   "cell_type": "code",
   "execution_count": 9,
   "id": "72a7b590",
   "metadata": {},
   "outputs": [
    {
     "data": {
      "text/plain": [
       "0    0.000862\n",
       "1   -0.087887\n",
       "2   -0.690532\n",
       "3    0.600946\n",
       "4    0.001699\n",
       "Name: Moyenne, dtype: float64"
      ]
     },
     "execution_count": 9,
     "metadata": {},
     "output_type": "execute_result"
    }
   ],
   "source": [
    "Moyenne.head()"
   ]
  },
  {
   "cell_type": "code",
   "execution_count": 10,
   "id": "998cfa57",
   "metadata": {},
   "outputs": [
    {
     "data": {
      "text/html": [
       "<div>\n",
       "<style scoped>\n",
       "    .dataframe tbody tr th:only-of-type {\n",
       "        vertical-align: middle;\n",
       "    }\n",
       "\n",
       "    .dataframe tbody tr th {\n",
       "        vertical-align: top;\n",
       "    }\n",
       "\n",
       "    .dataframe thead th {\n",
       "        text-align: right;\n",
       "    }\n",
       "</style>\n",
       "<table border=\"1\" class=\"dataframe\">\n",
       "  <thead>\n",
       "    <tr style=\"text-align: right;\">\n",
       "      <th></th>\n",
       "      <th>Catégorie d'impact</th>\n",
       "      <th>ExternalWood</th>\n",
       "      <th>BeamWood</th>\n",
       "      <th>Cinderblock</th>\n",
       "      <th>Concrete</th>\n",
       "      <th>Firedbrick</th>\n",
       "      <th>Glass</th>\n",
       "      <th>Glass wool</th>\n",
       "      <th>Gypsum</th>\n",
       "      <th>Hemp</th>\n",
       "      <th>Lath</th>\n",
       "      <th>Mortar</th>\n",
       "      <th>OSB</th>\n",
       "      <th>Paint</th>\n",
       "      <th>Plywood</th>\n",
       "      <th>Steel</th>\n",
       "      <th>WaterProofing</th>\n",
       "      <th>XPS</th>\n",
       "    </tr>\n",
       "  </thead>\n",
       "  <tbody>\n",
       "    <tr>\n",
       "      <th>0</th>\n",
       "      <td>Acidification</td>\n",
       "      <td>1.002389</td>\n",
       "      <td>1.000639</td>\n",
       "      <td>1.000697</td>\n",
       "      <td>1.000371</td>\n",
       "      <td>1.000816</td>\n",
       "      <td>1.012460</td>\n",
       "      <td>1.007155</td>\n",
       "      <td>1.015834</td>\n",
       "      <td>1.000515</td>\n",
       "      <td>1.001188</td>\n",
       "      <td>1.000734</td>\n",
       "      <td>1.004002</td>\n",
       "      <td>1.046844</td>\n",
       "      <td>1.007111</td>\n",
       "      <td>1.008200</td>\n",
       "      <td>1.004545</td>\n",
       "      <td>1.014882</td>\n",
       "    </tr>\n",
       "    <tr>\n",
       "      <th>1</th>\n",
       "      <td>Climate change</td>\n",
       "      <td>0.089734</td>\n",
       "      <td>0.462997</td>\n",
       "      <td>1.152539</td>\n",
       "      <td>1.115087</td>\n",
       "      <td>1.185765</td>\n",
       "      <td>3.855889</td>\n",
       "      <td>1.621985</td>\n",
       "      <td>1.452354</td>\n",
       "      <td>0.897047</td>\n",
       "      <td>0.376003</td>\n",
       "      <td>1.359222</td>\n",
       "      <td>0.391767</td>\n",
       "      <td>125.225156</td>\n",
       "      <td>0.687225</td>\n",
       "      <td>7.892115</td>\n",
       "      <td>2.748215</td>\n",
       "      <td>70.073127</td>\n",
       "    </tr>\n",
       "    <tr>\n",
       "      <th>2</th>\n",
       "      <td>Climate change - Biogenic</td>\n",
       "      <td>0.012482</td>\n",
       "      <td>3.467746</td>\n",
       "      <td>1.004729</td>\n",
       "      <td>1.001078</td>\n",
       "      <td>0.993357</td>\n",
       "      <td>1.006573</td>\n",
       "      <td>0.888883</td>\n",
       "      <td>0.971472</td>\n",
       "      <td>0.869354</td>\n",
       "      <td>0.009341</td>\n",
       "      <td>1.008011</td>\n",
       "      <td>0.104720</td>\n",
       "      <td>0.195409</td>\n",
       "      <td>0.395852</td>\n",
       "      <td>1.019676</td>\n",
       "      <td>0.993292</td>\n",
       "      <td>1.046996</td>\n",
       "    </tr>\n",
       "    <tr>\n",
       "      <th>3</th>\n",
       "      <td>Climate change - Fossil</td>\n",
       "      <td>2.322600</td>\n",
       "      <td>1.733062</td>\n",
       "      <td>1.257485</td>\n",
       "      <td>1.112504</td>\n",
       "      <td>1.170246</td>\n",
       "      <td>4.160491</td>\n",
       "      <td>1.936197</td>\n",
       "      <td>1.390741</td>\n",
       "      <td>1.042773</td>\n",
       "      <td>1.913360</td>\n",
       "      <td>1.185717</td>\n",
       "      <td>3.395244</td>\n",
       "      <td>225.355939</td>\n",
       "      <td>2.244743</td>\n",
       "      <td>9.479292</td>\n",
       "      <td>2.741837</td>\n",
       "      <td>107.451025</td>\n",
       "    </tr>\n",
       "    <tr>\n",
       "      <th>4</th>\n",
       "      <td>Climate change - Land use and LU change</td>\n",
       "      <td>1.002595</td>\n",
       "      <td>1.001439</td>\n",
       "      <td>1.000045</td>\n",
       "      <td>1.000067</td>\n",
       "      <td>1.000086</td>\n",
       "      <td>1.000591</td>\n",
       "      <td>1.000590</td>\n",
       "      <td>1.001152</td>\n",
       "      <td>1.004319</td>\n",
       "      <td>1.000704</td>\n",
       "      <td>1.000056</td>\n",
       "      <td>1.001876</td>\n",
       "      <td>6.832838</td>\n",
       "      <td>1.002346</td>\n",
       "      <td>1.001465</td>\n",
       "      <td>1.000394</td>\n",
       "      <td>1.002728</td>\n",
       "    </tr>\n",
       "  </tbody>\n",
       "</table>\n",
       "</div>"
      ],
      "text/plain": [
       "                        Catégorie d'impact  ExternalWood  BeamWood  \\\n",
       "0                            Acidification      1.002389  1.000639   \n",
       "1                           Climate change      0.089734  0.462997   \n",
       "2                Climate change - Biogenic      0.012482  3.467746   \n",
       "3                  Climate change - Fossil      2.322600  1.733062   \n",
       "4  Climate change - Land use and LU change      1.002595  1.001439   \n",
       "\n",
       "   Cinderblock  Concrete  Firedbrick     Glass  Glass wool    Gypsum  \\\n",
       "0     1.000697  1.000371    1.000816  1.012460    1.007155  1.015834   \n",
       "1     1.152539  1.115087    1.185765  3.855889    1.621985  1.452354   \n",
       "2     1.004729  1.001078    0.993357  1.006573    0.888883  0.971472   \n",
       "3     1.257485  1.112504    1.170246  4.160491    1.936197  1.390741   \n",
       "4     1.000045  1.000067    1.000086  1.000591    1.000590  1.001152   \n",
       "\n",
       "       Hemp      Lath    Mortar       OSB       Paint   Plywood     Steel  \\\n",
       "0  1.000515  1.001188  1.000734  1.004002    1.046844  1.007111  1.008200   \n",
       "1  0.897047  0.376003  1.359222  0.391767  125.225156  0.687225  7.892115   \n",
       "2  0.869354  0.009341  1.008011  0.104720    0.195409  0.395852  1.019676   \n",
       "3  1.042773  1.913360  1.185717  3.395244  225.355939  2.244743  9.479292   \n",
       "4  1.004319  1.000704  1.000056  1.001876    6.832838  1.002346  1.001465   \n",
       "\n",
       "   WaterProofing         XPS  \n",
       "0       1.004545    1.014882  \n",
       "1       2.748215   70.073127  \n",
       "2       0.993292    1.046996  \n",
       "3       2.741837  107.451025  \n",
       "4       1.000394    1.002728  "
      ]
     },
     "execution_count": 10,
     "metadata": {},
     "output_type": "execute_result"
    }
   ],
   "source": [
    "\n",
    "r = pd.read_csv('simulations.csv')\n",
    "r.head()"
   ]
  },
  {
   "cell_type": "code",
   "execution_count": null,
   "id": "90976547",
   "metadata": {},
   "outputs": [],
   "source": []
  }
 ],
 "metadata": {
  "kernelspec": {
   "display_name": "Python 3",
   "language": "python",
   "name": "python3"
  },
  "language_info": {
   "codemirror_mode": {
    "name": "ipython",
    "version": 3
   },
   "file_extension": ".py",
   "mimetype": "text/x-python",
   "name": "python",
   "nbconvert_exporter": "python",
   "pygments_lexer": "ipython3",
   "version": "3.11.11"
  }
 },
 "nbformat": 4,
 "nbformat_minor": 5
}
