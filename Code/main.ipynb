{
 "cells": [
  {
   "cell_type": "code",
   "execution_count": 33,
   "metadata": {},
   "outputs": [],
   "source": [
    "import numpy as np \n",
    "import matplotlib.pyplot as plt\n",
    "import pandas as pd \n",
    "import seaborn as sns "
   ]
  },
  {
   "cell_type": "markdown",
   "metadata": {},
   "source": [
    "## 🎲 Generate a Random Matrix:"
   ]
  },
  {
   "cell_type": "code",
   "execution_count": 34,
   "metadata": {},
   "outputs": [],
   "source": [
    "import numpy as np\n",
    "\n",
    "\n",
    "def generate_matrix(rows: int, columns: int, distributions: list[tuple[float, float]] = None, global_mean_std: tuple[float, float] = None) -> np.ndarray:\n",
    "    \"\"\"\n",
    "    Generates a matrix where each column follows a specified normal distribution.\n",
    "    \n",
    "    Parameters:\n",
    "    rows (int): Number of rows in the matrix.\n",
    "    columns (int): Number of columns in the matrix.\n",
    "    distributions (list of tuples, optional): A list where each tuple contains (mean, std) for the normal distribution\n",
    "                                              of the corresponding column. The length must match the number of columns.\n",
    "    global_mean_std (tuple, optional): A single (mean, std) pair to be applied to all columns if distributions are not provided.\n",
    "    \n",
    "    Returns:\n",
    "    np.ndarray: Generated matrix with specified distributions.\n",
    "    \"\"\"\n",
    "    if global_mean_std:\n",
    "        mean, std = global_mean_std\n",
    "        return np.random.normal(loc=mean, scale=std, size=(rows, columns))\n",
    "\n",
    "    if distributions is None or len(distributions) != columns:\n",
    "        raise ValueError(\n",
    "            \"Number of distributions must match the number of columns or provide a global mean and std.\")\n",
    "\n",
    "    matrix = np.zeros((rows, columns))\n",
    "    for col in range(columns):\n",
    "        mean, std = distributions[col]\n",
    "        matrix[:, col] = np.random.normal(loc=mean, scale=std, size=rows)\n",
    "\n",
    "    return matrix\n"
   ]
  },
  {
   "cell_type": "markdown",
   "metadata": {},
   "source": [
    "### 📌 Example:"
   ]
  },
  {
   "cell_type": "code",
   "execution_count": 35,
   "metadata": {},
   "outputs": [
    {
     "name": "stdout",
     "output_type": "stream",
     "text": [
      "Matrix with specific distributions:\n",
      " [[ 1.45800423  2.53104561 -2.54283828]\n",
      " [ 0.41672952  5.95905397 -3.93393767]\n",
      " [ 1.09977401  6.88361991 -3.88536024]\n",
      " [-0.19600599  3.26607686 -3.01189665]\n",
      " [-1.60409548 10.43963202 -2.2142676 ]]\n",
      "\n",
      "Matrix with global distribution:\n",
      " [[ 0.12891741 -0.07194887  2.20138157]\n",
      " [ 0.93980367  1.93525332  1.4446796 ]\n",
      " [ 1.95272371  1.9116349   2.49124925]\n",
      " [ 2.05482924  2.26234888  2.56004163]\n",
      " [ 1.42011853  1.69625071  1.80003546]]\n"
     ]
    }
   ],
   "source": [
    "# Example usage:\n",
    "rows = 5\n",
    "columns = 3\n",
    "# Mean and std deviation for each column\n",
    "specific_distributions = [(0, 1), (5, 2), (-3, 0.5)]\n",
    "global_distribution = (2, 1)  # Apply same mean and std to all columns\n",
    "\n",
    "# Using specific distributions\n",
    "\n",
    "matrix1 = generate_matrix(rows, columns, distributions=specific_distributions)\n",
    "print(\"Matrix with specific distributions:\\n\", matrix1)\n",
    "\n",
    "# Using global mean and std\n",
    "matrix2 = generate_matrix(rows, columns, global_mean_std=global_distribution)\n",
    "print(\"\\nMatrix with global distribution:\\n\", matrix2)"
   ]
  },
  {
   "cell_type": "code",
   "execution_count": null,
   "metadata": {},
   "outputs": [
    {
     "ename": "NameError",
     "evalue": "name 'List' is not defined",
     "output_type": "error",
     "traceback": [
      "\u001b[1;31m---------------------------------------------------------------------------\u001b[0m",
      "\u001b[1;31mNameError\u001b[0m                                 Traceback (most recent call last)",
      "Cell \u001b[1;32mIn[36], line 2\u001b[0m\n\u001b[0;32m      1\u001b[0m \u001b[38;5;28;01mdef\u001b[39;00m\u001b[38;5;250m \u001b[39m\u001b[38;5;21mgenerate_matrices\u001b[39m(num_matrices: \u001b[38;5;28mint\u001b[39m, rows: \u001b[38;5;28mint\u001b[39m, columns: \u001b[38;5;28mint\u001b[39m, storage_type: \u001b[38;5;28mstr\u001b[39m \u001b[38;5;241m=\u001b[39m \u001b[38;5;124m\"\u001b[39m\u001b[38;5;124marray\u001b[39m\u001b[38;5;124m\"\u001b[39m,\n\u001b[1;32m----> 2\u001b[0m                       distributions: \u001b[43mList\u001b[49m[Tuple[\u001b[38;5;28mfloat\u001b[39m, \u001b[38;5;28mfloat\u001b[39m]] \u001b[38;5;241m=\u001b[39m \u001b[38;5;28;01mNone\u001b[39;00m, global_mean_std: Tuple[\u001b[38;5;28mfloat\u001b[39m, \u001b[38;5;28mfloat\u001b[39m] \u001b[38;5;241m=\u001b[39m \u001b[38;5;28;01mNone\u001b[39;00m) \u001b[38;5;241m-\u001b[39m\u001b[38;5;241m>\u001b[39m Union[List[np\u001b[38;5;241m.\u001b[39mndarray], Dict[\u001b[38;5;28mstr\u001b[39m, np\u001b[38;5;241m.\u001b[39mndarray]]:\n\u001b[0;32m      3\u001b[0m \u001b[38;5;250m    \u001b[39m\u001b[38;5;124;03m\"\"\"\u001b[39;00m\n\u001b[0;32m      4\u001b[0m \u001b[38;5;124;03m    Generates multiple matrices and stores them in either a list (array) or a dictionary.\u001b[39;00m\n\u001b[0;32m      5\u001b[0m \u001b[38;5;124;03m    \u001b[39;00m\n\u001b[1;32m   (...)\u001b[0m\n\u001b[0;32m     15\u001b[0m \u001b[38;5;124;03m    Union[List[np.ndarray], Dict[str, np.ndarray]]: Generated matrices stored as a list or dictionary.\u001b[39;00m\n\u001b[0;32m     16\u001b[0m \u001b[38;5;124;03m    \"\"\"\u001b[39;00m\n\u001b[0;32m     17\u001b[0m     \u001b[38;5;28;01mif\u001b[39;00m storage_type \u001b[38;5;129;01mnot\u001b[39;00m \u001b[38;5;129;01min\u001b[39;00m [\u001b[38;5;124m\"\u001b[39m\u001b[38;5;124marray\u001b[39m\u001b[38;5;124m\"\u001b[39m, \u001b[38;5;124m\"\u001b[39m\u001b[38;5;124mdict\u001b[39m\u001b[38;5;124m\"\u001b[39m]:\n",
      "\u001b[1;31mNameError\u001b[0m: name 'List' is not defined"
     ]
    }
   ],
   "source": [
    "from typing import List, Tuple, Dict, Union\n",
    "\n",
    "\n",
    "def generate_matrices(num_matrices: int, rows: int, columns: int, storage_type: str = \"array\",\n",
    "                      distributions: List[Tuple[float, float]] = None, global_mean_std: Tuple[float, float] = None) -> Union[List[np.ndarray], Dict[str, np.ndarray]]:\n",
    "    \"\"\"\n",
    "    Generates multiple matrices and stores them in either a list (array) or a dictionary.\n",
    "    \n",
    "    Parameters:\n",
    "    num_matrices (int): Number of matrices to generate.\n",
    "    rows (int): Number of rows per matrix.\n",
    "    columns (int): Number of columns per matrix.\n",
    "    storage_type (str): Either \"array\" for a list or \"dict\" for a dictionary.\n",
    "    distributions (List[Tuple[float, float]], optional): List of (mean, std) pairs for each column.\n",
    "    global_mean_std (Tuple[float, float], optional): Single (mean, std) pair for all columns.\n",
    "    \n",
    "    Returns:\n",
    "    Union[List[np.ndarray], Dict[str, np.ndarray]]: Generated matrices stored as a list or dictionary.\n",
    "    \"\"\"\n",
    "    if storage_type not in [\"array\", \"dict\"]:\n",
    "        raise ValueError(\"storage_type must be either 'array' or 'dict'\")\n",
    "\n",
    "    if storage_type == \"array\":\n",
    "        return [generate_matrix(rows, columns, distributions, global_mean_std) for _ in range(num_matrices)]\n",
    "    else:\n",
    "        return {f\"matrix_{i}\": generate_matrix(rows, columns, distributions, global_mean_std) for i in range(num_matrices)}"
   ]
  },
  {
   "cell_type": "code",
   "execution_count": null,
   "metadata": {},
   "outputs": [
    {
     "ename": "ValueError",
     "evalue": "storage_type be either 'array' or 'dict'",
     "output_type": "error",
     "traceback": [
      "\u001b[1;31m---------------------------------------------------------------------------\u001b[0m",
      "\u001b[1;31mValueError\u001b[0m                                Traceback (most recent call last)",
      "Cell \u001b[1;32mIn[32], line 10\u001b[0m\n\u001b[0;32m      7\u001b[0m global_distribution \u001b[38;5;241m=\u001b[39m (\u001b[38;5;241m2\u001b[39m, \u001b[38;5;241m1\u001b[39m)  \u001b[38;5;66;03m# Apply same mean and std to all columns\u001b[39;00m\n\u001b[0;32m      9\u001b[0m \u001b[38;5;66;03m# Generate list of matrices\u001b[39;00m\n\u001b[1;32m---> 10\u001b[0m matrix_list \u001b[38;5;241m=\u001b[39m \u001b[43mgenerate_matrices\u001b[49m\u001b[43m(\u001b[49m\n\u001b[0;32m     11\u001b[0m \u001b[43m    \u001b[49m\u001b[43mnum_matrices\u001b[49m\u001b[43m,\u001b[49m\u001b[43m \u001b[49m\u001b[43mrows\u001b[49m\u001b[43m,\u001b[49m\u001b[43m \u001b[49m\u001b[43mcolumns\u001b[49m\u001b[43m,\u001b[49m\u001b[43m \u001b[49m\u001b[38;5;124;43m\"\u001b[39;49m\u001b[38;5;124;43marray\u001b[39;49m\u001b[38;5;124;43m\"\u001b[39;49m\u001b[43m,\u001b[49m\u001b[43m \u001b[49m\u001b[43mspecific_distributions\u001b[49m\u001b[43m)\u001b[49m\n\u001b[0;32m     12\u001b[0m \u001b[38;5;28mprint\u001b[39m(\u001b[38;5;124m\"\u001b[39m\u001b[38;5;124mList of Matrices:\u001b[39m\u001b[38;5;124m\"\u001b[39m, matrix_list)\n\u001b[0;32m     14\u001b[0m \u001b[38;5;66;03m# Generate dictionary of matrices\u001b[39;00m\n",
      "Cell \u001b[1;32mIn[31], line 23\u001b[0m, in \u001b[0;36mgenerate_matrices\u001b[1;34m(num_matrices, rows, columns, storage_type, distributions, global_mean_std)\u001b[0m\n\u001b[0;32m     20\u001b[0m     \u001b[38;5;28;01mraise\u001b[39;00m \u001b[38;5;167;01mValueError\u001b[39;00m(\u001b[38;5;124m\"\u001b[39m\u001b[38;5;124mstorage_type be either \u001b[39m\u001b[38;5;124m'\u001b[39m\u001b[38;5;124marray\u001b[39m\u001b[38;5;124m'\u001b[39m\u001b[38;5;124m or \u001b[39m\u001b[38;5;124m'\u001b[39m\u001b[38;5;124mdict\u001b[39m\u001b[38;5;124m'\u001b[39m\u001b[38;5;124m\"\u001b[39m)\n\u001b[0;32m     22\u001b[0m \u001b[38;5;28;01mif\u001b[39;00m storage_type \u001b[38;5;241m==\u001b[39m \u001b[38;5;124m\"\u001b[39m\u001b[38;5;124marray\u001b[39m\u001b[38;5;124m\"\u001b[39m:\n\u001b[1;32m---> 23\u001b[0m     \u001b[38;5;28;01mreturn\u001b[39;00m [\u001b[43mgenerate_matrices\u001b[49m\u001b[43m(\u001b[49m\u001b[43mrows\u001b[49m\u001b[43m,\u001b[49m\u001b[43m \u001b[49m\u001b[43mcolumns\u001b[49m\u001b[43m,\u001b[49m\u001b[43m \u001b[49m\u001b[43mdistributions\u001b[49m\u001b[43m,\u001b[49m\u001b[43m \u001b[49m\u001b[43mglobal_mean_std\u001b[49m\u001b[43m)\u001b[49m \u001b[38;5;28;01mfor\u001b[39;00m _ \u001b[38;5;129;01min\u001b[39;00m \u001b[38;5;28mrange\u001b[39m(num_matrices)]\n\u001b[0;32m     25\u001b[0m \u001b[38;5;28;01melse\u001b[39;00m:\n\u001b[0;32m     26\u001b[0m     \u001b[38;5;28;01mreturn\u001b[39;00m {\u001b[38;5;124mf\u001b[39m\u001b[38;5;124m\"\u001b[39m\u001b[38;5;124mmatrix_\u001b[39m\u001b[38;5;132;01m{\u001b[39;00mi\u001b[38;5;132;01m}\u001b[39;00m\u001b[38;5;124m\"\u001b[39m: generate_matrix(rows, columns, distributions, global_mean_std) \u001b[38;5;28;01mfor\u001b[39;00m i \u001b[38;5;129;01min\u001b[39;00m \u001b[38;5;28mrange\u001b[39m(num_matrices)}\n",
      "Cell \u001b[1;32mIn[31], line 20\u001b[0m, in \u001b[0;36mgenerate_matrices\u001b[1;34m(num_matrices, rows, columns, storage_type, distributions, global_mean_std)\u001b[0m\n\u001b[0;32m      3\u001b[0m \u001b[38;5;250m\u001b[39m\u001b[38;5;124;03m\"\"\"\u001b[39;00m\n\u001b[0;32m      4\u001b[0m \u001b[38;5;124;03mGenerates multiple matrices and stores them in either a list (array) or a dictionary.\u001b[39;00m\n\u001b[0;32m      5\u001b[0m \u001b[38;5;124;03m\u001b[39;00m\n\u001b[1;32m   (...)\u001b[0m\n\u001b[0;32m     15\u001b[0m \u001b[38;5;124;03mlist[np.ndarray] | dict[str, np.ndarray]: Generated matrices stored as a list or dictionary.\u001b[39;00m\n\u001b[0;32m     16\u001b[0m \u001b[38;5;124;03m\"\"\"\u001b[39;00m\n\u001b[0;32m     19\u001b[0m \u001b[38;5;28;01mif\u001b[39;00m storage_type \u001b[38;5;129;01mnot\u001b[39;00m \u001b[38;5;129;01min\u001b[39;00m [\u001b[38;5;124m\"\u001b[39m\u001b[38;5;124marray\u001b[39m\u001b[38;5;124m\"\u001b[39m, \u001b[38;5;124m\"\u001b[39m\u001b[38;5;124mdict\u001b[39m\u001b[38;5;124m\"\u001b[39m]:\n\u001b[1;32m---> 20\u001b[0m     \u001b[38;5;28;01mraise\u001b[39;00m \u001b[38;5;167;01mValueError\u001b[39;00m(\u001b[38;5;124m\"\u001b[39m\u001b[38;5;124mstorage_type be either \u001b[39m\u001b[38;5;124m'\u001b[39m\u001b[38;5;124marray\u001b[39m\u001b[38;5;124m'\u001b[39m\u001b[38;5;124m or \u001b[39m\u001b[38;5;124m'\u001b[39m\u001b[38;5;124mdict\u001b[39m\u001b[38;5;124m'\u001b[39m\u001b[38;5;124m\"\u001b[39m)\n\u001b[0;32m     22\u001b[0m \u001b[38;5;28;01mif\u001b[39;00m storage_type \u001b[38;5;241m==\u001b[39m \u001b[38;5;124m\"\u001b[39m\u001b[38;5;124marray\u001b[39m\u001b[38;5;124m\"\u001b[39m:\n\u001b[0;32m     23\u001b[0m     \u001b[38;5;28;01mreturn\u001b[39;00m [generate_matrices(rows, columns, distributions, global_mean_std) \u001b[38;5;28;01mfor\u001b[39;00m _ \u001b[38;5;129;01min\u001b[39;00m \u001b[38;5;28mrange\u001b[39m(num_matrices)]\n",
      "\u001b[1;31mValueError\u001b[0m: storage_type be either 'array' or 'dict'"
     ]
    }
   ],
   "source": [
    "# Example usage:\n",
    "num_matrices = 3\n",
    "rows = 5\n",
    "columns = 3\n",
    "# Mean and std deviation for each column\n",
    "specific_distributions = [(0, 1), (5, 2), (-3, 0.5)]\n",
    "global_distribution = (2, 1)  # Apply same mean and std to all columns\n",
    "\n",
    "# Generate list of matrices\n",
    "matrix_list = generate_matrices(\n",
    "    num_matrices, rows, columns, \"array\", specific_distributions)\n",
    "print(\"List of Matrices:\", matrix_list)\n",
    "\n",
    "# Generate dictionary of matrices\n",
    "matrix_dict = generate_matrices(\n",
    "    num_matrices, rows, columns, \"dict\", global_mean_std=global_distribution)\n",
    "print(\"\\nDictionary of Matrices:\", matrix_dict)"
   ]
  },
  {
   "cell_type": "markdown",
   "metadata": {},
   "source": [
    "## Discernibility Analysis:"
   ]
  },
  {
   "cell_type": "code",
   "execution_count": null,
   "metadata": {},
   "outputs": [],
   "source": [
    "def Discernibility_Analysis(mat1, mat2):\n",
    "\n",
    "    return np.mean(mat1-mat2<0)"
   ]
  }
 ],
 "metadata": {
  "kernelspec": {
   "display_name": "Python 3",
   "language": "python",
   "name": "python3"
  },
  "language_info": {
   "codemirror_mode": {
    "name": "ipython",
    "version": 3
   },
   "file_extension": ".py",
   "mimetype": "text/x-python",
   "name": "python",
   "nbconvert_exporter": "python",
   "pygments_lexer": "ipython3",
   "version": "3.13.1"
  }
 },
 "nbformat": 4,
 "nbformat_minor": 2
}
